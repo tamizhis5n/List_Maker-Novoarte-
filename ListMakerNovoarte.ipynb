{
  "nbformat": 4,
  "nbformat_minor": 0,
  "metadata": {
    "kernelspec": {
      "display_name": "Python 3",
      "language": "python",
      "name": "python3"
    },
    "language_info": {
      "codemirror_mode": {
        "name": "ipython",
        "version": 3
      },
      "file_extension": ".py",
      "mimetype": "text/x-python",
      "name": "python",
      "nbconvert_exporter": "python",
      "pygments_lexer": "ipython3",
      "version": "3.8.1"
    },
    "colab": {
      "name": "main.ipynb",
      "provenance": [],
      "include_colab_link": true
    }
  },
  "cells": [
    {
      "cell_type": "markdown",
      "metadata": {
        "id": "view-in-github",
        "colab_type": "text"
      },
      "source": [
        "<a href=\"https://colab.research.google.com/github/ReanSchwarzer1/Notebooks/blob/master/ListMakerNovoarte.ipynb\" target=\"_parent\"><img src=\"https://colab.research.google.com/assets/colab-badge.svg\" alt=\"Open In Colab\"/></a>"
      ]
    },
    {
      "cell_type": "code",
      "metadata": {
        "id": "Gk_4XzCATsYz",
        "colab_type": "code",
        "colab": {},
        "outputId": "24cdb527-6c96-46d4-c161-abf27633c845"
      },
      "source": [
        "import random\n",
        "numberList = [\"Abhipsha\",\"Kapilan\",\"Souvik\",\"Swasti\",\"Ashutosh Sai\",\"Raghu Raj\",\"Adhiraj\",\"Rohit\",\"Tamizh\",\"Ashutosh K\",\"Nishkarsh\"]\n",
        "a=[]\n",
        "x=y=0\n",
        "for i in range(4):\n",
        "    x=y=0\n",
        "    while(x==y):\n",
        "        x=random.choice(numberList)\n",
        "        y=random.choice(numberList)\n",
        "    a.append(x)\n",
        "    a.append(y)\n",
        "print(a)\n"
      ],
      "execution_count": 0,
      "outputs": [
        {
          "output_type": "stream",
          "text": [
            "['Kapilan', 'Rohit', 'Kapilan', 'Swasti', 'Nishkarsh', 'Ashutosh Sai', 'Ashutosh Sai', 'Tamizh']\n"
          ],
          "name": "stdout"
        }
      ]
    },
    {
      "cell_type": "code",
      "metadata": {
        "id": "bDG2-wmsTsY4",
        "colab_type": "code",
        "colab": {},
        "outputId": "0fd2b446-ae6d-4a94-af1c-f517755b3ec7"
      },
      "source": [
        "import pandas as pd \n",
        "\n",
        "df = pd.DataFrame(list(zip(a, b)),columns =['Name', 'Date']) \n",
        "df "
      ],
      "execution_count": 0,
      "outputs": [
        {
          "output_type": "execute_result",
          "data": {
            "text/html": [
              "<div>\n",
              "<style scoped>\n",
              "    .dataframe tbody tr th:only-of-type {\n",
              "        vertical-align: middle;\n",
              "    }\n",
              "\n",
              "    .dataframe tbody tr th {\n",
              "        vertical-align: top;\n",
              "    }\n",
              "\n",
              "    .dataframe thead th {\n",
              "        text-align: right;\n",
              "    }\n",
              "</style>\n",
              "<table border=\"1\" class=\"dataframe\">\n",
              "  <thead>\n",
              "    <tr style=\"text-align: right;\">\n",
              "      <th></th>\n",
              "      <th>Name</th>\n",
              "      <th>Date</th>\n",
              "    </tr>\n",
              "  </thead>\n",
              "  <tbody>\n",
              "    <tr>\n",
              "      <th>0</th>\n",
              "      <td>Swasti</td>\n",
              "      <td>2020-02-18</td>\n",
              "    </tr>\n",
              "    <tr>\n",
              "      <th>1</th>\n",
              "      <td>Raghu Raj</td>\n",
              "      <td>2020-02-21</td>\n",
              "    </tr>\n",
              "  </tbody>\n",
              "</table>\n",
              "</div>"
            ],
            "text/plain": [
              "        Name        Date\n",
              "0     Swasti  2020-02-18\n",
              "1  Raghu Raj  2020-02-21"
            ]
          },
          "metadata": {
            "tags": []
          },
          "execution_count": 26
        }
      ]
    },
    {
      "cell_type": "code",
      "metadata": {
        "id": "xdZTBNWVTsY6",
        "colab_type": "code",
        "colab": {}
      },
      "source": [
        "import datetime\n",
        "def next_weekday(d, weekday):\n",
        "    days_ahead = weekday-d.weekday()\n",
        "    if days_ahead <= 0: \n",
        "        days_ahead += 7\n",
        "    return d + datetime.timedelta(days_ahead)\n",
        "from datetime import date\n",
        "today = date.today()\n",
        "d = datetime.date(today.year, today.month, today.day)\n",
        "next_tuesday = next_weekday(d,1)\n",
        "b=[]\n",
        "b.append(next_tuesday)\n",
        "next_friday = next_weekday(d,4)\n",
        "b.append(next_friday)"
      ],
      "execution_count": 0,
      "outputs": []
    },
    {
      "cell_type": "code",
      "metadata": {
        "id": "dJusakpsTsY9",
        "colab_type": "code",
        "colab": {},
        "outputId": "f107a0ca-6da8-422f-8fb2-4e306786c40a"
      },
      "source": [
        "import pandas as pd \n",
        "\n",
        "df = pd.DataFrame(list(zip(a, b)),columns =['Name', 'Date']) \n",
        "df "
      ],
      "execution_count": 0,
      "outputs": [
        {
          "output_type": "execute_result",
          "data": {
            "text/html": [
              "<div>\n",
              "<style scoped>\n",
              "    .dataframe tbody tr th:only-of-type {\n",
              "        vertical-align: middle;\n",
              "    }\n",
              "\n",
              "    .dataframe tbody tr th {\n",
              "        vertical-align: top;\n",
              "    }\n",
              "\n",
              "    .dataframe thead th {\n",
              "        text-align: right;\n",
              "    }\n",
              "</style>\n",
              "<table border=\"1\" class=\"dataframe\">\n",
              "  <thead>\n",
              "    <tr style=\"text-align: right;\">\n",
              "      <th></th>\n",
              "      <th>Name</th>\n",
              "      <th>Date</th>\n",
              "    </tr>\n",
              "  </thead>\n",
              "  <tbody>\n",
              "    <tr>\n",
              "      <th>0</th>\n",
              "      <td>Rohit</td>\n",
              "      <td>04/02/2020</td>\n",
              "    </tr>\n",
              "    <tr>\n",
              "      <th>1</th>\n",
              "      <td>Swasti</td>\n",
              "      <td>07/02/2020</td>\n",
              "    </tr>\n",
              "    <tr>\n",
              "      <th>2</th>\n",
              "      <td>Rohit</td>\n",
              "      <td>11/02/2020</td>\n",
              "    </tr>\n",
              "    <tr>\n",
              "      <th>3</th>\n",
              "      <td>Kapilan</td>\n",
              "      <td>14/02/2020</td>\n",
              "    </tr>\n",
              "    <tr>\n",
              "      <th>4</th>\n",
              "      <td>Souvik</td>\n",
              "      <td>18/02/2020</td>\n",
              "    </tr>\n",
              "    <tr>\n",
              "      <th>5</th>\n",
              "      <td>Adhiraj</td>\n",
              "      <td>21/02/2020</td>\n",
              "    </tr>\n",
              "    <tr>\n",
              "      <th>6</th>\n",
              "      <td>Kapilan</td>\n",
              "      <td>25/02/2020</td>\n",
              "    </tr>\n",
              "    <tr>\n",
              "      <th>7</th>\n",
              "      <td>Abhipsha</td>\n",
              "      <td>28/02/2020</td>\n",
              "    </tr>\n",
              "  </tbody>\n",
              "</table>\n",
              "</div>"
            ],
            "text/plain": [
              "       Name        Date\n",
              "0     Rohit  04/02/2020\n",
              "1    Swasti  07/02/2020\n",
              "2     Rohit  11/02/2020\n",
              "3   Kapilan  14/02/2020\n",
              "4    Souvik  18/02/2020\n",
              "5   Adhiraj  21/02/2020\n",
              "6   Kapilan  25/02/2020\n",
              "7  Abhipsha  28/02/2020"
            ]
          },
          "metadata": {
            "tags": []
          },
          "execution_count": 50
        }
      ]
    },
    {
      "cell_type": "code",
      "metadata": {
        "id": "jNNS6dZnTsZA",
        "colab_type": "code",
        "colab": {}
      },
      "source": [
        "export_csv = df.to_csv (r'C:\\Users\\ITTOSHURA\\Desktop\\Tamizh\\Novo\\export_dataframe.csv', index = None, header=True)"
      ],
      "execution_count": 0,
      "outputs": []
    },
    {
      "cell_type": "code",
      "metadata": {
        "id": "IH-eI4lrTsZD",
        "colab_type": "code",
        "colab": {},
        "outputId": "51fb021d-9039-4462-d6aa-655517ebee48"
      },
      "source": [
        "import calendar\n",
        "\n",
        "c = calendar.Calendar(firstweekday=calendar.SUNDAY)\n",
        "\n",
        "year = 2020; \n",
        "month = int(input(\"Input Month:\\n\"))\n",
        "b=[]\n",
        "monthcal = c.monthdatescalendar(year,month)\n",
        "for i in range(4):\n",
        "    friday = [day for week in monthcal for day in week if \\\n",
        "                day.weekday() == calendar.FRIDAY and \\\n",
        "                day.month == month][i]\n",
        "    friday=str(friday)\n",
        "    friday=friday.split(\"-\")\n",
        "    friday=\"/\".join(friday[::-1])\n",
        "    b.append(friday)\n",
        "    tuesday = [day for week in monthcal for day in week if \\\n",
        "                day.weekday() == calendar.TUESDAY and \\\n",
        "                day.month == month][i]\n",
        "    tuesday=str(tuesday)\n",
        "    tuesday=tuesday.split(\"-\")\n",
        "    tuesday=\"/\".join(tuesday[::-1])\n",
        "    b.append(tuesday)\n",
        "\n",
        "    \n",
        "b.sort()\n",
        "print(b)"
      ],
      "execution_count": 0,
      "outputs": [
        {
          "output_type": "stream",
          "text": [
            "Input Month:\n",
            "2\n",
            "['04/02/2020', '07/02/2020', '11/02/2020', '14/02/2020', '18/02/2020', '21/02/2020', '25/02/2020', '28/02/2020']\n"
          ],
          "name": "stdout"
        }
      ]
    },
    {
      "cell_type": "markdown",
      "metadata": {
        "id": "1f1hSYlvTsZG",
        "colab_type": "text"
      },
      "source": [
        ""
      ]
    }
  ]
}